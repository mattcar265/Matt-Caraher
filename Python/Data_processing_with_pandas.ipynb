{
 "cells": [
  {
   "cell_type": "code",
   "execution_count": 1,
   "id": "cb83ca1d",
   "metadata": {},
   "outputs": [
    {
     "data": {
      "text/html": [
       "<div>\n",
       "<style scoped>\n",
       "    .dataframe tbody tr th:only-of-type {\n",
       "        vertical-align: middle;\n",
       "    }\n",
       "\n",
       "    .dataframe tbody tr th {\n",
       "        vertical-align: top;\n",
       "    }\n",
       "\n",
       "    .dataframe thead th {\n",
       "        text-align: right;\n",
       "    }\n",
       "</style>\n",
       "<table border=\"1\" class=\"dataframe\">\n",
       "  <thead>\n",
       "    <tr style=\"text-align: right;\">\n",
       "      <th></th>\n",
       "      <th>one</th>\n",
       "      <th>two</th>\n",
       "      <th>three</th>\n",
       "      <th>four</th>\n",
       "      <th>five</th>\n",
       "      <th>variable</th>\n",
       "    </tr>\n",
       "  </thead>\n",
       "  <tbody>\n",
       "    <tr>\n",
       "      <th>0</th>\n",
       "      <td>-92.0</td>\n",
       "      <td>-76.0</td>\n",
       "      <td>-33.0</td>\n",
       "      <td>3.0</td>\n",
       "      <td>-13.0</td>\n",
       "      <td>B2</td>\n",
       "    </tr>\n",
       "    <tr>\n",
       "      <th>1</th>\n",
       "      <td>-21.0</td>\n",
       "      <td>76.0</td>\n",
       "      <td>38.0</td>\n",
       "      <td>-6.0</td>\n",
       "      <td>80.0</td>\n",
       "      <td>B1</td>\n",
       "    </tr>\n",
       "    <tr>\n",
       "      <th>2</th>\n",
       "      <td>-2.0</td>\n",
       "      <td>-47.0</td>\n",
       "      <td>-34.0</td>\n",
       "      <td>-86.0</td>\n",
       "      <td>-66.0</td>\n",
       "      <td>A1</td>\n",
       "    </tr>\n",
       "  </tbody>\n",
       "</table>\n",
       "</div>"
      ],
      "text/plain": [
       "    one   two  three  four  five variable\n",
       "0 -92.0 -76.0  -33.0   3.0 -13.0       B2\n",
       "1 -21.0  76.0   38.0  -6.0  80.0       B1\n",
       "2  -2.0 -47.0  -34.0 -86.0 -66.0       A1"
      ]
     },
     "execution_count": 1,
     "metadata": {},
     "output_type": "execute_result"
    }
   ],
   "source": [
    "import pandas as pd\n",
    "data_set = pd.read_csv(\"Assignment4_data.csv\")\n",
    "data_set[:3]"
   ]
  },
  {
   "cell_type": "code",
   "execution_count": 2,
   "id": "0b202b6e",
   "metadata": {},
   "outputs": [
    {
     "name": "stdout",
     "output_type": "stream",
     "text": [
      "Exploring the data set\n",
      "\n",
      "Description of the data:\n",
      "              one         two       three        four        five\n",
      "count  195.000000  197.000000  199.000000  194.000000  196.000000\n",
      "mean    -2.656410    2.208122    2.095477   -2.829897   -2.612245\n",
      "std     67.489135   53.116759  101.864120   87.098996   84.158719\n",
      "min   -363.000000 -100.000000 -100.000000 -576.000000 -821.000000\n",
      "25%    -54.500000  -44.000000  -60.000000  -52.500000  -42.250000\n",
      "50%      0.000000   -1.000000   -9.000000   -8.000000   -1.000000\n",
      "75%     52.000000   45.000000   45.000000   44.000000   54.250000\n",
      "max     97.000000   97.000000  832.000000  728.000000   99.000000\n",
      "\n",
      "Overview of data types from each column:\n",
      "one         float64\n",
      "two         float64\n",
      "three       float64\n",
      "four        float64\n",
      "five        float64\n",
      "variable     object\n",
      "dtype: object\n",
      "\n",
      "Showing the mean of each column:\n",
      "avg for one: -2.6564102564102563\n",
      "avg for two: 2.2081218274111674\n",
      "avg for three: 2.0954773869346734\n",
      "avg for four: -2.829896907216495\n",
      "\n"
     ]
    }
   ],
   "source": [
    "print(\"Exploring the data set\")\n",
    "print()\n",
    "print(\"Description of the data:\")\n",
    "print(data_set.describe())\n",
    "print()\n",
    "print(\"Overview of data types from each column:\")\n",
    "print(data_set.dtypes)\n",
    "print()\n",
    "print(\"Showing the mean of each column:\")\n",
    "print(\"avg for one:\", data_set['one'].mean())\n",
    "print(\"avg for two:\", data_set['two'].mean())\n",
    "print(\"avg for three:\", data_set['three'].mean())\n",
    "print(\"avg for four:\", data_set['four'].mean())\n",
    "print()"
   ]
  },
  {
   "cell_type": "code",
   "execution_count": 3,
   "id": "73fdefa0",
   "metadata": {},
   "outputs": [
    {
     "name": "stdout",
     "output_type": "stream",
     "text": [
      "Find missing values in the data, and handle them\n",
      "one         5\n",
      "two         3\n",
      "three       1\n",
      "four        6\n",
      "five        4\n",
      "variable    0\n",
      "dtype: int64\n",
      "\n",
      "Rows where the data is missing:\n",
      "      one   two  three   four  five variable\n",
      "7     NaN  35.0  -51.0   75.0  93.0       A2\n",
      "9   -98.0   NaN    5.0   47.0 -37.0       A1\n",
      "19  -62.0  -6.0   70.0    NaN  -5.0       B2\n",
      "24    NaN  53.0   82.0  -94.0  65.0       B1\n",
      "43   45.0  93.0  -58.0    NaN  72.0       A2\n",
      "49    NaN   2.0   39.0  -51.0 -71.0       A1\n",
      "68    NaN  12.0  -52.0   34.0  45.0       A1\n",
      "87  -65.0   NaN  -45.0   -4.0 -37.0       B2\n",
      "126  40.0 -15.0   51.0  -33.0   NaN       B2\n",
      "131 -18.0  69.0  -71.0  -25.0   NaN       B2\n",
      "139  90.0   2.0   47.0    NaN  63.0       A1\n",
      "147 -41.0  24.0   50.0    NaN -47.0       B1\n",
      "152 -78.0  54.0  -44.0  -53.0   NaN       A2\n",
      "160   NaN -69.0  -51.0   53.0 -39.0       B2\n",
      "173 -90.0 -23.0    NaN   66.0   0.0       A2\n",
      "176 -18.0   NaN   68.0  -72.0  10.0       B1\n",
      "178 -92.0   3.0   56.0  728.0   NaN       A1\n",
      "182  -3.0  66.0   81.0    NaN -88.0       B2\n",
      "192  77.0 -46.0    7.0    NaN  -6.0       B1\n",
      "\n",
      "Filling the null entries with the average\n",
      "Checking that there is now no data missing:\n",
      "Empty DataFrame\n",
      "Columns: [one, two, three, four, five, variable]\n",
      "Index: []\n"
     ]
    }
   ],
   "source": [
    "print(\"Find missing values in the data, and handle them\")\n",
    "print(data_set.isnull().sum())\n",
    "print()\n",
    "print(\"Rows where the data is missing:\")\n",
    "print(data_set[data_set.isnull().any(axis=1)])\n",
    "print()\n",
    "print(\"Filling the null entries with the average\")\n",
    "columns = ['one', 'two', 'three', 'four', 'five']\n",
    "for col in columns:\n",
    "    data_set[col].fillna(data_set[col].mean(), inplace=True)\n",
    "    \n",
    "print(\"Checking that there is now no data missing:\")\n",
    "print(data_set[data_set.isnull().any(axis=1)])"
   ]
  },
  {
   "cell_type": "code",
   "execution_count": 4,
   "id": "f340aaec",
   "metadata": {},
   "outputs": [
    {
     "name": "stdout",
     "output_type": "stream",
     "text": [
      "Explore the variable column\n",
      "\n",
      "Unique values in the variable column, along with their frequencies\n",
      "['B2' 'B1' 'A1' 'A2']\n",
      "\n",
      "Frequency of each value:\n",
      "variable\n",
      "A1    59\n",
      "B2    50\n",
      "A2    46\n",
      "B1    45\n",
      "Name: count, dtype: int64\n",
      "\n",
      "Data set with the appended dummy columns. The variables present as True False, which is changed by adding the +1:\n",
      "    one   two  three  four  five variable  A1  A2  B1  B2\n",
      "0 -92.0 -76.0  -33.0   3.0 -13.0       B2   0   0   0   1\n",
      "1 -21.0  76.0   38.0  -6.0  80.0       B1   0   0   1   0\n",
      "2  -2.0 -47.0  -34.0 -86.0 -66.0       A1   1   0   0   0\n",
      "\n"
     ]
    }
   ],
   "source": [
    "print(\"Explore the variable column\")\n",
    "print()\n",
    "print(\"Unique values in the variable column, along with their frequencies\")\n",
    "print(data_set['variable'].unique())\n",
    "print()\n",
    "print(\"Frequency of each value:\")\n",
    "print(data_set['variable'].value_counts())\n",
    "print()\n",
    "print(\"Data set with the appended dummy columns. The variables present as True False, which is changed by adding the +1:\")\n",
    "dummy_variables = pd.get_dummies(data_set['variable'])\n",
    "data_set_with_dummies = pd.concat([data_set, dummy_variables], axis=1) * 1\n",
    "\n",
    "print(data_set_with_dummies[:3])\n",
    "print()"
   ]
  },
  {
   "cell_type": "code",
   "execution_count": 5,
   "id": "31c8f122",
   "metadata": {},
   "outputs": [
    {
     "name": "stdout",
     "output_type": "stream",
     "text": [
      "Creating 3 bins for column one\n",
      "    one   two  three  four  five variable\n",
      "0  Bin1 -76.0  -33.0   3.0 -13.0       B2\n",
      "1  Bin2  76.0   38.0  -6.0  80.0       B1\n",
      "2  Bin2 -47.0  -34.0 -86.0 -66.0       A1\n",
      "3  Bin1  43.0    7.0 -40.0 -42.0       A1\n",
      "4  Bin3  37.0   -7.0 -14.0  30.0       A1\n"
     ]
    }
   ],
   "source": [
    "print(\"Creating 3 bins for column one\")\n",
    "data_set['one'] = pd.qcut(data_set['one'], q=3, labels=[\"Bin1\", \"Bin2\", \"Bin3\"])\n",
    "print(data_set.head())"
   ]
  },
  {
   "cell_type": "code",
   "execution_count": 17,
   "id": "d40e450d",
   "metadata": {},
   "outputs": [
    {
     "name": "stdout",
     "output_type": "stream",
     "text": [
      "Number of unique words in s: 110\n",
      "\n",
      "Most common word: the \n",
      "Frequency: 14\n",
      "\n",
      "Number of words starting with t: 23\n"
     ]
    }
   ],
   "source": [
    "s = \"I am happy to join with you today in what will go down in history as the greatest demonstration for freedom in the history of our nation. Five score years ago, a great American, in whose symbolic shadow we stand today, signed the Emancipation Proclamation. This momentous decree came as a great beacon light of hope to millions of Negro slaves who had been seared in the flames of withering injustice. It came as a joyous daybreak to end the long night of their captivity. But one hundred years later, the Negro still is not free. One hundred years later, the life of the Negro is still sadly crippled by the manacles of segregation and the chains of discrimination. One hundred years later, the Negro lives on a lonely island of poverty in the midst of a vast ocean of material prosperity. One hundred years later, the Negro is still languishing in the corners of American society and finds himself an exile in his own land. So we have come here today to dramatize a shameful condition.\"\n",
    "\n",
    "print(\"Number of unique words in s:\", len(set(s.split())))\n",
    "print()\n",
    "\n",
    "word_counts = {}\n",
    "text = s.lower()\n",
    "words = text.split()\n",
    "\n",
    "words = [word.strip('.,!?;:') for word in words]\n",
    "\n",
    "for word in words:\n",
    "    word_counts[word] = word_counts.get(word, 0) + 1\n",
    "    \n",
    "most_common = ''\n",
    "max_freq = 0\n",
    "\n",
    "for word, count in word_counts.items():\n",
    "    if count > max_freq:\n",
    "        most_common = word\n",
    "        max_freq = count\n",
    "        \n",
    "print(\"Most common word:\", most_common, \"\\nFrequency:\", max_freq)\n",
    "\n",
    "words_starting_t = 0;\n",
    "for word in words:\n",
    "    if word[0] == 't':\n",
    "        words_starting_t += 1\n",
    "\n",
    "print()\n",
    "print(\"Number of words starting with t:\", words_starting_t)\n",
    "        "
   ]
  }
 ],
 "metadata": {
  "kernelspec": {
   "display_name": "Python 3 (ipykernel)",
   "language": "python",
   "name": "python3"
  },
  "language_info": {
   "codemirror_mode": {
    "name": "ipython",
    "version": 3
   },
   "file_extension": ".py",
   "mimetype": "text/x-python",
   "name": "python",
   "nbconvert_exporter": "python",
   "pygments_lexer": "ipython3",
   "version": "3.11.5"
  }
 },
 "nbformat": 4,
 "nbformat_minor": 5
}
