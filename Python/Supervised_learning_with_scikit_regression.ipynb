{
 "cells": [
  {
   "cell_type": "markdown",
   "id": "4ecb74b2",
   "metadata": {},
   "source": [
    "**Assignment 9**  \n",
    "Matt Caraher"
   ]
  },
  {
   "cell_type": "code",
   "execution_count": 38,
   "id": "14dddb37",
   "metadata": {},
   "outputs": [],
   "source": [
    "import pandas as pd\n",
    "import numpy as np\n",
    "import matplotlib.pyplot as plt\n",
    "import sklearn.metrics as metrics\n",
    "from sklearn import linear_model\n",
    "from sklearn import tree\n",
    "from sklearn import neural_network\n",
    "from sklearn.model_selection import train_test_split\n",
    "from sklearn.model_selection import cross_val_score\n",
    "from sklearn.model_selection import GridSearchCV"
   ]
  },
  {
   "cell_type": "code",
   "execution_count": 2,
   "id": "9eed7f6d",
   "metadata": {},
   "outputs": [
    {
     "name": "stdout",
     "output_type": "stream",
     "text": [
      "Requirement already satisfied: ucimlrepo in c:\\users\\mattr\\anaconda3\\lib\\site-packages (0.0.3)\n",
      "Note: you may need to restart the kernel to use updated packages.\n"
     ]
    }
   ],
   "source": [
    "pip install ucimlrepo"
   ]
  },
  {
   "cell_type": "markdown",
   "id": "5e427f07",
   "metadata": {},
   "source": [
    "1. Performing exploratory analysis on the data and removing motor_UPDRS column."
   ]
  },
  {
   "cell_type": "code",
   "execution_count": 3,
   "id": "5e273583",
   "metadata": {},
   "outputs": [
    {
     "name": "stdout",
     "output_type": "stream",
     "text": [
      "{'uci_id': 189, 'name': 'Parkinsons Telemonitoring', 'repository_url': 'https://archive.ics.uci.edu/dataset/189/parkinsons+telemonitoring', 'data_url': 'https://archive.ics.uci.edu/static/public/189/data.csv', 'abstract': \"Oxford Parkinson's Disease Telemonitoring Dataset\", 'area': 'Health and Medicine', 'tasks': ['Regression'], 'characteristics': ['Tabular'], 'num_instances': 5875, 'num_features': 19, 'feature_types': ['Integer', 'Real'], 'demographics': ['Age', 'Sex'], 'target_col': ['motor_UPDRS', 'total_UPDRS'], 'index_col': ['subject#'], 'has_missing_values': 'no', 'missing_values_symbol': None, 'year_of_dataset_creation': 2009, 'last_updated': 'Fri Nov 03 2023', 'dataset_doi': '10.24432/C5ZS3N', 'creators': ['Athanasios Tsanas', 'Max Little'], 'intro_paper': {'title': \"Accurate Telemonitoring of Parkinson's Disease Progression by Noninvasive Speech Tests\", 'authors': 'A. Tsanas, Max A. Little, P. McSharry, L. Ramig', 'published_in': 'IEEE Transactions on Biomedical Engineering', 'year': 2010, 'url': 'https://www.semanticscholar.org/paper/1fdf33b6d8b1bdb38866ba824c1dcaecdfb6bdd6', 'doi': None}, 'additional_info': {'summary': \"This dataset is composed of a range of biomedical voice measurements from 42 people with early-stage Parkinson's disease recruited to a six-month trial of a telemonitoring device for remote symptom progression monitoring. The recordings were automatically captured in the patient's homes.\\r\\n\\r\\nColumns in the table contain subject number, subject age, subject gender, time interval from baseline recruitment date, motor UPDRS, total UPDRS, and 16 biomedical voice measures. Each row corresponds to one of 5,875 voice recording from these individuals. The main aim of the data is to predict the motor and total UPDRS scores ('motor_UPDRS' and 'total_UPDRS') from the 16 voice measures.\\r\\n\\r\\nThe data is in ASCII CSV format. The rows of the CSV file contain an instance corresponding to one voice recording. There are around 200 recordings per patient, the subject number of the patient is identified in the first column. For further information or to pass on comments, please contact Athanasios Tsanas (tsanasthanasis@gmail.com) or Max Little (littlem@physics.ox.ac.uk).\\r\\n\\r\\nFurther details are contained in the following reference -- if you use this dataset, please cite:\\r\\nAthanasios Tsanas, Max A. Little, Patrick E. McSharry, Lorraine O. Ramig (2009),\\r\\n'Accurate telemonitoring of Parkinson’s disease progression by non-invasive speech tests',\\r\\nIEEE Transactions on Biomedical Engineering (to appear).\\r\\n\\r\\nFurther details about the biomedical voice measures can be found in:\\r\\nMax A. Little, Patrick E. McSharry, Eric J. Hunter, Lorraine O. Ramig (2009), \\r\\n'Suitability of dysphonia measurements for telemonitoring of Parkinson's disease', \\r\\nIEEE Transactions on Biomedical Engineering, 56(4):1015-1022\\r\\n\", 'purpose': None, 'funded_by': None, 'instances_represent': None, 'recommended_data_splits': None, 'sensitive_data': None, 'preprocessing_description': None, 'variable_info': \"subject# - Integer that uniquely identifies each subject\\r\\nage - Subject age\\r\\nsex - Subject gender '0' - male, '1' - female\\r\\ntest_time - Time since recruitment into the trial. The integer part is the number of days since recruitment. \\r\\nmotor_UPDRS - Clinician's motor UPDRS score, linearly interpolated\\r\\ntotal_UPDRS - Clinician's total UPDRS score, linearly interpolated\\r\\nJitter(%),Jitter(Abs),Jitter:RAP,Jitter:PPQ5,Jitter:DDP - Several measures of variation in fundamental frequency\\r\\nShimmer,Shimmer(dB),Shimmer:APQ3,Shimmer:APQ5,Shimmer:APQ11,Shimmer:DDA - Several measures of variation in amplitude\\r\\nNHR,HNR - Two measures of ratio of noise to tonal components in the voice\\r\\nRPDE - A nonlinear dynamical complexity measure\\r\\nDFA - Signal fractal scaling exponent\\r\\nPPE - A nonlinear measure of fundamental frequency variation \\r\\n\", 'citation': None}}\n",
      "             name     role        type demographic  \\\n",
      "0        subject#       ID     Integer        None   \n",
      "1             age  Feature     Integer         Age   \n",
      "2       test_time  Feature  Continuous        None   \n",
      "3       Jitter(%)  Feature  Continuous        None   \n",
      "4     Jitter(Abs)  Feature  Continuous        None   \n",
      "5      Jitter:RAP  Feature  Continuous        None   \n",
      "6     Jitter:PPQ5  Feature  Continuous        None   \n",
      "7      Jitter:DDP  Feature  Continuous        None   \n",
      "8         Shimmer  Feature  Continuous        None   \n",
      "9     Shimmer(dB)  Feature  Continuous        None   \n",
      "10   Shimmer:APQ3  Feature  Continuous        None   \n",
      "11   Shimmer:APQ5  Feature  Continuous        None   \n",
      "12  Shimmer:APQ11  Feature  Continuous        None   \n",
      "13    Shimmer:DDA  Feature  Continuous        None   \n",
      "14            NHR  Feature  Continuous        None   \n",
      "15            HNR  Feature  Continuous        None   \n",
      "16           RPDE  Feature  Continuous        None   \n",
      "17            DFA  Feature  Continuous        None   \n",
      "18            PPE  Feature  Continuous        None   \n",
      "19    motor_UPDRS   Target  Continuous        None   \n",
      "20    total_UPDRS   Target  Continuous        None   \n",
      "21            sex  Feature      Binary         Sex   \n",
      "\n",
      "                                          description units missing_values  \n",
      "0       Integer that uniquely identifies each subject  None             no  \n",
      "1                                         Subject age  None             no  \n",
      "2   Time since recruitment into the trial. The int...  None             no  \n",
      "3   Several measures of variation in fundamental f...  None             no  \n",
      "4   Several measures of variation in fundamental f...  None             no  \n",
      "5   Several measures of variation in fundamental f...  None             no  \n",
      "6   Several measures of variation in fundamental f...  None             no  \n",
      "7   Several measures of variation in fundamental f...  None             no  \n",
      "8          Several measures of variation in amplitude  None             no  \n",
      "9          Several measures of variation in amplitude  None             no  \n",
      "10         Several measures of variation in amplitude  None             no  \n",
      "11         Several measures of variation in amplitude  None             no  \n",
      "12         Several measures of variation in amplitude  None             no  \n",
      "13         Several measures of variation in amplitude  None             no  \n",
      "14  Two measures of ratio of noise to tonal compon...  None             no  \n",
      "15  Two measures of ratio of noise to tonal compon...  None             no  \n",
      "16           A nonlinear dynamical complexity measure  None             no  \n",
      "17                    Signal fractal scaling exponent  None             no  \n",
      "18  A nonlinear measure of fundamental frequency v...  None             no  \n",
      "19  Clinician's motor UPDRS score, linearly interp...  None             no  \n",
      "20  Clinician's total UPDRS score, linearly interp...  None             no  \n",
      "21               Subject sex '0' - male, '1' - female  None             no  \n"
     ]
    }
   ],
   "source": [
    "# Using import code sample from the dataset website\n",
    "from ucimlrepo import fetch_ucirepo \n",
    "  \n",
    "# fetch dataset \n",
    "parkinsons_telemonitoring = fetch_ucirepo(id=189) \n",
    "  \n",
    "# data (as pandas dataframes) \n",
    "X = parkinsons_telemonitoring.data.features \n",
    "y = parkinsons_telemonitoring.data.targets \n",
    "  \n",
    "# metadata \n",
    "print(parkinsons_telemonitoring.metadata) \n",
    "  \n",
    "# variable information \n",
    "print(parkinsons_telemonitoring.variables) \n"
   ]
  },
  {
   "cell_type": "code",
   "execution_count": 4,
   "id": "4039b892",
   "metadata": {},
   "outputs": [
    {
     "name": "stdout",
     "output_type": "stream",
     "text": [
      "Exploring the dataset\n",
      "\n",
      "First rows of the dataset\n",
      "   age  test_time  Jitter(%)  Jitter(Abs)  Jitter:RAP  Jitter:PPQ5  \\\n",
      "0   72     5.6431    0.00662     0.000034     0.00401      0.00317   \n",
      "1   72    12.6660    0.00300     0.000017     0.00132      0.00150   \n",
      "2   72    19.6810    0.00481     0.000025     0.00205      0.00208   \n",
      "3   72    25.6470    0.00528     0.000027     0.00191      0.00264   \n",
      "4   72    33.6420    0.00335     0.000020     0.00093      0.00130   \n",
      "\n",
      "   Jitter:DDP  Shimmer  Shimmer(dB)  Shimmer:APQ3  Shimmer:APQ5  \\\n",
      "0     0.01204  0.02565        0.230       0.01438       0.01309   \n",
      "1     0.00395  0.02024        0.179       0.00994       0.01072   \n",
      "2     0.00616  0.01675        0.181       0.00734       0.00844   \n",
      "3     0.00573  0.02309        0.327       0.01106       0.01265   \n",
      "4     0.00278  0.01703        0.176       0.00679       0.00929   \n",
      "\n",
      "   Shimmer:APQ11  Shimmer:DDA       NHR     HNR     RPDE      DFA      PPE  \\\n",
      "0        0.01662      0.04314  0.014290  21.640  0.41888  0.54842  0.16006   \n",
      "1        0.01689      0.02982  0.011112  27.183  0.43493  0.56477  0.10810   \n",
      "2        0.01458      0.02202  0.020220  23.047  0.46222  0.54405  0.21014   \n",
      "3        0.01963      0.03317  0.027837  24.445  0.48730  0.57794  0.33277   \n",
      "4        0.01819      0.02036  0.011625  26.126  0.47188  0.56122  0.19361   \n",
      "\n",
      "   sex  \n",
      "0    0  \n",
      "1    0  \n",
      "2    0  \n",
      "3    0  \n",
      "4    0  \n",
      "\n",
      "Data types\n",
      "age                int64\n",
      "test_time        float64\n",
      "Jitter(%)        float64\n",
      "Jitter(Abs)      float64\n",
      "Jitter:RAP       float64\n",
      "Jitter:PPQ5      float64\n",
      "Jitter:DDP       float64\n",
      "Shimmer          float64\n",
      "Shimmer(dB)      float64\n",
      "Shimmer:APQ3     float64\n",
      "Shimmer:APQ5     float64\n",
      "Shimmer:APQ11    float64\n",
      "Shimmer:DDA      float64\n",
      "NHR              float64\n",
      "HNR              float64\n",
      "RPDE             float64\n",
      "DFA              float64\n",
      "PPE              float64\n",
      "sex                int64\n",
      "dtype: object\n",
      "\n",
      "Using describe on the data\n",
      "               age    test_time    Jitter(%)  Jitter(Abs)   Jitter:RAP  \\\n",
      "count  5875.000000  5875.000000  5875.000000  5875.000000  5875.000000   \n",
      "mean     64.804936    92.863722     0.006154     0.000044     0.002987   \n",
      "std       8.821524    53.445602     0.005624     0.000036     0.003124   \n",
      "min      36.000000    -4.262500     0.000830     0.000002     0.000330   \n",
      "25%      58.000000    46.847500     0.003580     0.000022     0.001580   \n",
      "50%      65.000000    91.523000     0.004900     0.000034     0.002250   \n",
      "75%      72.000000   138.445000     0.006800     0.000053     0.003290   \n",
      "max      85.000000   215.490000     0.099990     0.000446     0.057540   \n",
      "\n",
      "       Jitter:PPQ5   Jitter:DDP      Shimmer  Shimmer(dB)  Shimmer:APQ3  \\\n",
      "count  5875.000000  5875.000000  5875.000000  5875.000000   5875.000000   \n",
      "mean      0.003277     0.008962     0.034035     0.310960      0.017156   \n",
      "std       0.003732     0.009371     0.025835     0.230254      0.013237   \n",
      "min       0.000430     0.000980     0.003060     0.026000      0.001610   \n",
      "25%       0.001820     0.004730     0.019120     0.175000      0.009280   \n",
      "50%       0.002490     0.006750     0.027510     0.253000      0.013700   \n",
      "75%       0.003460     0.009870     0.039750     0.365000      0.020575   \n",
      "max       0.069560     0.172630     0.268630     2.107000      0.162670   \n",
      "\n",
      "       Shimmer:APQ5  Shimmer:APQ11  Shimmer:DDA          NHR          HNR  \\\n",
      "count   5875.000000    5875.000000  5875.000000  5875.000000  5875.000000   \n",
      "mean       0.020144       0.027481     0.051467     0.032120    21.679495   \n",
      "std        0.016664       0.019986     0.039711     0.059692     4.291096   \n",
      "min        0.001940       0.002490     0.004840     0.000286     1.659000   \n",
      "25%        0.010790       0.015665     0.027830     0.010955    19.406000   \n",
      "50%        0.015940       0.022710     0.041110     0.018448    21.920000   \n",
      "75%        0.023755       0.032715     0.061735     0.031463    24.444000   \n",
      "max        0.167020       0.275460     0.488020     0.748260    37.875000   \n",
      "\n",
      "              RPDE          DFA          PPE          sex  \n",
      "count  5875.000000  5875.000000  5875.000000  5875.000000  \n",
      "mean      0.541473     0.653240     0.219589     0.317787  \n",
      "std       0.100986     0.070902     0.091498     0.465656  \n",
      "min       0.151020     0.514040     0.021983     0.000000  \n",
      "25%       0.469785     0.596180     0.156340     0.000000  \n",
      "50%       0.542250     0.643600     0.205500     0.000000  \n",
      "75%       0.614045     0.711335     0.264490     1.000000  \n",
      "max       0.966080     0.865600     0.731730     1.000000  \n",
      "\n",
      "Null values: 0\n"
     ]
    }
   ],
   "source": [
    "print('Exploring the dataset\\n')\n",
    "print('First rows of the dataset')\n",
    "print(X.head())\n",
    "print('\\nData types')\n",
    "print(X.dtypes)\n",
    "print('\\nUsing describe on the data')\n",
    "print(X.describe())\n",
    "print('\\nNull values:', X.isnull().sum().sum())"
   ]
  },
  {
   "cell_type": "code",
   "execution_count": 5,
   "id": "31c42099",
   "metadata": {},
   "outputs": [
    {
     "name": "stdout",
     "output_type": "stream",
     "text": [
      "Exploring the dataset\n",
      "\n",
      "First rows of the dataset\n",
      "   motor_UPDRS  total_UPDRS\n",
      "0       28.199       34.398\n",
      "1       28.447       34.894\n",
      "2       28.695       35.389\n",
      "3       28.905       35.810\n",
      "4       29.187       36.375\n",
      "\n",
      "Data types\n",
      "motor_UPDRS    float64\n",
      "total_UPDRS    float64\n",
      "dtype: object\n",
      "\n",
      "Using describe on the data\n",
      "       motor_UPDRS  total_UPDRS\n",
      "count  5875.000000  5875.000000\n",
      "mean     21.296229    29.018942\n",
      "std       8.129282    10.700283\n",
      "min       5.037700     7.000000\n",
      "25%      15.000000    21.371000\n",
      "50%      20.871000    27.576000\n",
      "75%      27.596500    36.399000\n",
      "max      39.511000    54.992000\n",
      "\n",
      "Null values: 0\n"
     ]
    }
   ],
   "source": [
    "print('Exploring the dataset\\n')\n",
    "print('First rows of the dataset')\n",
    "print(y.head())\n",
    "print('\\nData types')\n",
    "print(y.dtypes)\n",
    "print('\\nUsing describe on the data')\n",
    "print(y.describe())\n",
    "print('\\nNull values:', y.isnull().sum().sum())"
   ]
  },
  {
   "cell_type": "code",
   "execution_count": 6,
   "id": "bdffa5f6",
   "metadata": {},
   "outputs": [],
   "source": [
    "y = y.drop(columns=['motor_UPDRS'])"
   ]
  },
  {
   "cell_type": "code",
   "execution_count": 7,
   "id": "2a77c860",
   "metadata": {},
   "outputs": [
    {
     "name": "stdout",
     "output_type": "stream",
     "text": [
      "Exploring the dataset\n",
      "\n",
      "First rows of the dataset\n",
      "   total_UPDRS\n",
      "0       34.398\n",
      "1       34.894\n",
      "2       35.389\n",
      "3       35.810\n",
      "4       36.375\n",
      "\n",
      "Data types\n",
      "total_UPDRS    float64\n",
      "dtype: object\n",
      "\n",
      "Using describe on the data\n",
      "       total_UPDRS\n",
      "count  5875.000000\n",
      "mean     29.018942\n",
      "std      10.700283\n",
      "min       7.000000\n",
      "25%      21.371000\n",
      "50%      27.576000\n",
      "75%      36.399000\n",
      "max      54.992000\n",
      "\n",
      "Null values: 0\n"
     ]
    }
   ],
   "source": [
    "print('Exploring the dataset\\n')\n",
    "print('First rows of the dataset')\n",
    "print(y.head())\n",
    "print('\\nData types')\n",
    "print(y.dtypes)\n",
    "print('\\nUsing describe on the data')\n",
    "print(y.describe())\n",
    "print('\\nNull values:', y.isnull().sum().sum())"
   ]
  },
  {
   "cell_type": "markdown",
   "id": "2337be05",
   "metadata": {},
   "source": [
    "2. Using cross-validation to build a linear regression model to predict total_UPDRS"
   ]
  },
  {
   "cell_type": "code",
   "execution_count": 28,
   "id": "cb36e9db",
   "metadata": {},
   "outputs": [
    {
     "name": "stdout",
     "output_type": "stream",
     "text": [
      "[ -9.37029693  -8.24834453 -10.82542378  -8.14486908 -13.29115806]\n",
      "[ 9.37029693  8.24834453 10.82542378  8.14486908 13.29115806]\n"
     ]
    }
   ],
   "source": [
    "lreg = linear_model.LinearRegression()\n",
    "\n",
    "lreg_accuracies = cross_val_score(lreg, X, y, cv = 5, \n",
    "                             scoring = 'neg_mean_absolute_error')\n",
    "\n",
    "print(lreg_accuracies)\n",
    "lreg_accuracies = -1 * lreg_accuracies\n",
    "print(lreg_accuracies)"
   ]
  },
  {
   "cell_type": "markdown",
   "id": "ae0be944",
   "metadata": {},
   "source": [
    "3. Using cross-validation to build a regression tree model to predict total_UPDRS"
   ]
  },
  {
   "cell_type": "code",
   "execution_count": 29,
   "id": "25a7f98b",
   "metadata": {},
   "outputs": [
    {
     "name": "stdout",
     "output_type": "stream",
     "text": [
      "[15.26727581 10.92936692  8.73228856 10.24742347 13.19420816]\n"
     ]
    }
   ],
   "source": [
    "tree_model = tree.DecisionTreeRegressor(min_samples_leaf = 5,\n",
    "                                       random_state = 16)\n",
    "\n",
    "tm_accuracies = cross_val_score(tree_model, X, y, cv = 5, \n",
    "                             scoring = 'neg_mean_absolute_error')\n",
    "\n",
    "tm_accuracies = -1 * tm_accuracies\n",
    "print(tm_accuracies)"
   ]
  },
  {
   "cell_type": "markdown",
   "id": "2ed67c63",
   "metadata": {},
   "source": [
    "4. Using cross-validation to build a neural network model to predict total_UPDRS"
   ]
  },
  {
   "cell_type": "code",
   "execution_count": 26,
   "id": "9587cd40",
   "metadata": {},
   "outputs": [
    {
     "name": "stdout",
     "output_type": "stream",
     "text": [
      "Data preparation for neural network\n",
      "\n",
      "[34.398 34.894 35.389 ... 32.495 32.007 31.513]\n",
      "[34.398 34.894 35.389 ... 32.495 32.007 31.513]\n"
     ]
    }
   ],
   "source": [
    "print('Data preparation for neural network\\n')\n",
    "print(y)\n",
    "y = y.ravel()\n",
    "print(y)"
   ]
  },
  {
   "cell_type": "code",
   "execution_count": 30,
   "id": "79b65d97",
   "metadata": {},
   "outputs": [
    {
     "name": "stdout",
     "output_type": "stream",
     "text": [
      "[10.65923093  8.66379685 10.01492924  7.58459846 11.42773202]\n"
     ]
    }
   ],
   "source": [
    "nn_model = neural_network.MLPRegressor(10, activation = 'logistic',\n",
    "                                      max_iter = 10000, random_state = 16)\n",
    "\n",
    "nn_accuracies = cross_val_score(nn_model, X, y, cv = 5,\n",
    "                            scoring = 'neg_mean_absolute_error')\n",
    "\n",
    "nn_accuracies = -1 * nn_accuracies\n",
    "print(nn_accuracies)"
   ]
  },
  {
   "cell_type": "markdown",
   "id": "6a091471",
   "metadata": {},
   "source": [
    "5. Compare the performance of the 3 models based on MAE"
   ]
  },
  {
   "cell_type": "code",
   "execution_count": 37,
   "id": "ad5df550",
   "metadata": {},
   "outputs": [
    {
     "name": "stdout",
     "output_type": "stream",
     "text": [
      "Linear regression average MAE: 9.976018475061968\n",
      "Tree model average MAE: 11.674112584356635\n",
      "Neural network average MAE: 9.670057499506564\n"
     ]
    }
   ],
   "source": [
    "lreg_avg_mae = np.mean(lreg_accuracies)\n",
    "tm_avg_mae = np.mean(tm_accuracies)\n",
    "nn_avg_mae = np.mean(nn_accuracies)\n",
    "\n",
    "print('Linear regression average MAE:', lreg_avg_mae)\n",
    "print('Tree model average MAE:', tm_avg_mae)\n",
    "print('Neural network average MAE:', nn_avg_mae)"
   ]
  },
  {
   "cell_type": "markdown",
   "id": "42d6b846",
   "metadata": {},
   "source": [
    "Based on the above results, the neural network has the best mean absolute error score, with approximately 9.67. Closely behind is the linear regression model with 9.98, and then the tree model with 11.67. I can optimize this model by use of grid search. "
   ]
  },
  {
   "cell_type": "markdown",
   "id": "1de9449d",
   "metadata": {},
   "source": [
    "6. Trying to optimize the neural network model"
   ]
  },
  {
   "cell_type": "code",
   "execution_count": 43,
   "id": "ea083339",
   "metadata": {
    "scrolled": false
   },
   "outputs": [
    {
     "name": "stdout",
     "output_type": "stream",
     "text": [
      "Best params:\n",
      " {'activation': 'relu', 'hidden_layer_sizes': 25}\n",
      "\n",
      "Best estimator:\n",
      " MLPRegressor(hidden_layer_sizes=25, max_iter=10000, random_state=16)\n"
     ]
    }
   ],
   "source": [
    "tuned_params = {'hidden_layer_sizes': [5, 10, 15, 20, 25, 30],\n",
    "               'activation': ['logistic', 'relu', 'tanh']}\n",
    "\n",
    "nn = neural_network.MLPRegressor(max_iter = 10000, random_state = 16)\n",
    "\n",
    "nn_optimizer = GridSearchCV(nn, tuned_params,\n",
    "                           scoring = 'neg_mean_absolute_error',\n",
    "                           cv = 5,\n",
    "                           return_train_score = False,\n",
    "                           verbose = 0)\n",
    "\n",
    "nn_optimizer.fit(X, y)\n",
    "\n",
    "print('Best params:\\n', nn_optimizer.best_params_)\n",
    "print()\n",
    "print('Best estimator:\\n', nn_optimizer.best_estimator_)"
   ]
  },
  {
   "cell_type": "code",
   "execution_count": 45,
   "id": "dbc06210",
   "metadata": {},
   "outputs": [
    {
     "data": {
      "text/plain": [
       "9.180054974184866"
      ]
     },
     "execution_count": 45,
     "metadata": {},
     "output_type": "execute_result"
    }
   ],
   "source": [
    "-nn_optimizer.best_score_"
   ]
  },
  {
   "cell_type": "markdown",
   "id": "a574d0f7",
   "metadata": {},
   "source": [
    "with an mae of 9.18, the model has improved from the original, thanks to the use of grid search. "
   ]
  }
 ],
 "metadata": {
  "kernelspec": {
   "display_name": "Python 3 (ipykernel)",
   "language": "python",
   "name": "python3"
  },
  "language_info": {
   "codemirror_mode": {
    "name": "ipython",
    "version": 3
   },
   "file_extension": ".py",
   "mimetype": "text/x-python",
   "name": "python",
   "nbconvert_exporter": "python",
   "pygments_lexer": "ipython3",
   "version": "3.11.5"
  }
 },
 "nbformat": 4,
 "nbformat_minor": 5
}
