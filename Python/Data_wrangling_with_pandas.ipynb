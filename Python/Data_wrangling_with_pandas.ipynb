{
 "cells": [
  {
   "cell_type": "code",
   "execution_count": 4,
   "id": "5adbab94",
   "metadata": {},
   "outputs": [],
   "source": [
    "import pandas as pd\n",
    "registration_df = pd.read_csv('Registration.csv')\n",
    "course_info_df = pd.read_excel('Course_info.xlsx')"
   ]
  },
  {
   "cell_type": "code",
   "execution_count": 10,
   "id": "ad6340a9",
   "metadata": {},
   "outputs": [
    {
     "name": "stdout",
     "output_type": "stream",
     "text": [
      "Exploring Registration Data\n",
      "\n",
      "First rows of the dataset:\n",
      "  Student name semester new                  coursename\n",
      "0    Bill Mumy    Fall 2004     BEHAVIORAL PHARMACOLOGY\n",
      "1    Bill Mumy    Fall 2000     AMERICAN FOREIGN POLICY\n",
      "2    Bill Mumy    Fall 2003       DRUGS, BRAIN AND MIND\n",
      "3    Bill Mumy    Fall 2005  Environmental Case Studies\n",
      "4    Bill Mumy    Fall 2000     COMPUTER LINEAR ALGEBRA\n",
      "\n",
      "Data types:\n",
      "Student name    object\n",
      "semester new    object\n",
      "coursename      object\n",
      "dtype: object\n",
      "\n",
      "Running a describe:\n",
      "       Student name semester new             coursename\n",
      "count          4900         4900                   4899\n",
      "unique          448           16                    168\n",
      "top      Ed McMahon  Spring 2002  COMPUT LINEAR ALGEBRA\n",
      "freq             52          486                    411\n"
     ]
    }
   ],
   "source": [
    "print('Exploring Registration Data')\n",
    "print()\n",
    "print('First rows of the dataset:')\n",
    "print(registration_df.head())\n",
    "print()\n",
    "print('Data types:')\n",
    "print(registration_df.dtypes)\n",
    "print()\n",
    "print('Running a describe:')\n",
    "print(registration_df.describe())"
   ]
  },
  {
   "cell_type": "code",
   "execution_count": 11,
   "id": "a131de71",
   "metadata": {},
   "outputs": [
    {
     "name": "stdout",
     "output_type": "stream",
     "text": [
      "Exploring Course Info Data\n",
      "\n",
      "First rows of the dataset:\n",
      "  Course number                                     Course Name  Course Type\n",
      "0       ARTS400  EXPERIMENTAL WRITING SEM: The Ecology of Poetry           C\n",
      "1       ARTS401                             ART: ancient to 1945           C\n",
      "2       ARTS465                         ENVIRONMENTAL SYSTEMS II           F\n",
      "3       ARTS486                          COMPUTER LINEAR ALGEBRA           F\n",
      "4       ARTS512                             ANALYTICAL MECHANICS           F\n",
      "\n",
      "Data types:\n",
      "Course number    object\n",
      "Course Name      object\n",
      "Course Type      object\n",
      "dtype: object\n",
      "\n",
      "Running a describe:\n",
      "       Course number              Course Name  Course Type\n",
      "count             42                        41          42\n",
      "unique            42                        40           3\n",
      "top          ARTS400  FRANCE & THE EUROP.UNION           E\n",
      "freq               1                         2          33\n"
     ]
    }
   ],
   "source": [
    "print('Exploring Course Info Data')\n",
    "print()\n",
    "print('First rows of the dataset:')\n",
    "print(course_info_df.head())\n",
    "print()\n",
    "print('Data types:')\n",
    "print(course_info_df.dtypes)\n",
    "print()\n",
    "print('Running a describe:')\n",
    "print(course_info_df.describe())"
   ]
  },
  {
   "cell_type": "code",
   "execution_count": 25,
   "id": "da78e8ca",
   "metadata": {},
   "outputs": [
    {
     "name": "stdout",
     "output_type": "stream",
     "text": [
      "Finding which course has the highest registration\n",
      "\n",
      "List of highest registration count:\n",
      "coursename\n",
      "COMPUT LINEAR ALGEBRA         411\n",
      "Environmental Case Studies    402\n",
      "A WORLD AT WAR                368\n",
      "BEHAVIORAL PHARMACOLOGY       354\n",
      "ANALYTICAL MECHANICS          350\n",
      "Name: count, dtype: int64\n",
      "\n",
      "From this we can see that Environmental Case Studies has the highest number of registrations\n"
     ]
    }
   ],
   "source": [
    "print('Finding which course has the highest registration')\n",
    "print()\n",
    "\n",
    "registration_counts = registration_df['coursename'].value_counts()\n",
    "sorted_registration_counts = registration_counts.sort_values(ascending=False)\n",
    "\n",
    "print('List of highest registration count:')\n",
    "print(sorted_registration_counts.head())\n",
    "print()\n",
    "print('From this we can see that', sorted_registration_counts.index[1], 'has the highest number of registrations')"
   ]
  },
  {
   "cell_type": "code",
   "execution_count": 42,
   "id": "4d90aa19",
   "metadata": {},
   "outputs": [
    {
     "name": "stdout",
     "output_type": "stream",
     "text": [
      "Inner join on the two datasets\n",
      "\n",
      "Original column names:\n",
      "Index(['Student name', 'semester new', 'coursename'], dtype='object')\n",
      "Index(['Course number', 'coursename', 'Course Type'], dtype='object')\n",
      "\n",
      "New column names:\n",
      "Index(['Student name', 'semester new', 'coursename'], dtype='object')\n",
      "Index(['Course number', 'coursename', 'Course Type'], dtype='object')\n",
      "Merged dataset:\n",
      "           Student name semester new  \\\n",
      "0             Bill Mumy    Fall 2004   \n",
      "1     Geraldine Ferraro  Summer 2004   \n",
      "2     Geraldine Ferraro  Summer 2004   \n",
      "3         Laura Lippman    Fall 2004   \n",
      "4         Laura Lippman    Fall 2004   \n",
      "...                 ...          ...   \n",
      "2382        Edward Koch    Fall 2004   \n",
      "2383       Celeste Holm    Fall 2004   \n",
      "2384       Celeste Holm    Fall 2004   \n",
      "2385       Jimmy Carter    Fall 2001   \n",
      "2386       Jimmy Carter    Fall 2001   \n",
      "\n",
      "                                    coursename Course number Course Type  \n",
      "0                      BEHAVIORAL PHARMACOLOGY       ARTS516           F  \n",
      "1                      BEHAVIORAL PHARMACOLOGY       ARTS516           F  \n",
      "2                      BEHAVIORAL PHARMACOLOGY       ARTS516           F  \n",
      "3                      BEHAVIORAL PHARMACOLOGY       ARTS516           F  \n",
      "4                      BEHAVIORAL PHARMACOLOGY       ARTS516           F  \n",
      "...                                        ...           ...         ...  \n",
      "2382                      ART: ancient to 1945       ARTS401           C  \n",
      "2383                      ART: ancient to 1945       ARTS401           C  \n",
      "2384                      ART: ancient to 1945       ARTS401           C  \n",
      "2385  EVIDENCED BASED CRIME AND JUSTICE POLICY       ARTS485           E  \n",
      "2386  EVIDENCED BASED CRIME AND JUSTICE POLICY       ARTS485           E  \n",
      "\n",
      "[2387 rows x 5 columns]\n"
     ]
    }
   ],
   "source": [
    "print('Inner join on the two datasets')\n",
    "print()\n",
    "print('Original column names:')\n",
    "print(registration_df.columns)\n",
    "print(course_info_df.columns)\n",
    "\n",
    "course_info_df.rename(columns={'Course Name ' : 'coursename'}, inplace=True)\n",
    "\n",
    "print()\n",
    "print('New column names:')\n",
    "print(registration_df.columns)\n",
    "print(course_info_df.columns)\n",
    "\n",
    "merged_df = pd.merge(registration_df, course_info_df, on='coursename', how='inner')\n",
    "\n",
    "\n",
    "print('Merged dataset:')\n",
    "print(merged_df)"
   ]
  },
  {
   "cell_type": "code",
   "execution_count": 51,
   "id": "9ee439f4",
   "metadata": {},
   "outputs": [
    {
     "name": "stdout",
     "output_type": "stream",
     "text": [
      "Creating our new dataframe\n",
      "\n",
      "Head of pivot table:\n",
      "              Course Type                                                   \\\n",
      "Course number     ARTS400 ARTS401 ARTS465 ARTS484 ARTS485 ARTS486 ARTS488    \n",
      "Student name                                                                 \n",
      "ABella Abzug          NaN     NaN     NaN     NaN     NaN     NaN      NaN   \n",
      "Al Gore               NaN     NaN     NaN     NaN     NaN     NaN      NaN   \n",
      "Al Hirt               NaN     NaN       F     NaN     NaN       F      NaN   \n",
      "Al Roker              CCC     NaN     NaN     NaN     NaN     NaN      NaN   \n",
      "Alan Bates            NaN     NaN     NaN     NaN     NaN     NaN      NaN   \n",
      "\n",
      "                                        ... semester new                   \\\n",
      "Course number ARTS491 ARTS492  ARTS493  ...     ARTS559  ARTS565 ARTS567    \n",
      "Student name                            ...                                 \n",
      "ABella Abzug      NaN      NaN     NaN  ...          NaN     NaN      NaN   \n",
      "Al Gore           NaN      NaN     NaN  ...          NaN     NaN      NaN   \n",
      "Al Hirt           NaN      NaN     NaN  ...          NaN     NaN      NaN   \n",
      "Al Roker          NaN      NaN     NaN  ...          NaN     NaN      NaN   \n",
      "Alan Bates        NaN      NaN     NaN  ...          NaN     NaN      NaN   \n",
      "\n",
      "                                                                             \n",
      "Course number ARTS569  ARTS571  ARTS573 ARTS577   ARTS581  ARTS583  ARTS587  \n",
      "Student name                                                                 \n",
      "ABella Abzug       NaN      NaN     NaN     NaN  Fall 2005      NaN     NaN  \n",
      "Al Gore            NaN      NaN     NaN     NaN        NaN      NaN     NaN  \n",
      "Al Hirt            NaN      NaN     NaN     NaN        NaN      NaN     NaN  \n",
      "Al Roker           NaN      NaN     NaN     NaN        NaN      NaN     NaN  \n",
      "Alan Bates         NaN      NaN     NaN     NaN        NaN      NaN     NaN  \n",
      "\n",
      "[5 rows x 105 columns]\n",
      "\n",
      "Translating to binary:\n",
      "              Course Type                                                   \\\n",
      "Course number     ARTS400 ARTS401 ARTS465 ARTS484 ARTS485 ARTS486 ARTS488    \n",
      "Student name                                                                 \n",
      "ABella Abzug            0       0       0       0       0       0        0   \n",
      "Al Gore                 0       0       0       0       0       0        0   \n",
      "Al Hirt                 0       0       1       0       0       1        0   \n",
      "Al Roker                1       0       0       0       0       0        0   \n",
      "Alan Bates              0       0       0       0       0       0        0   \n",
      "\n",
      "                                        ... semester new                   \\\n",
      "Course number ARTS491 ARTS492  ARTS493  ...     ARTS559  ARTS565 ARTS567    \n",
      "Student name                            ...                                 \n",
      "ABella Abzug        0        0       0  ...            0       0        0   \n",
      "Al Gore             0        0       0  ...            0       0        0   \n",
      "Al Hirt             0        0       0  ...            0       0        0   \n",
      "Al Roker            0        0       0  ...            0       0        0   \n",
      "Alan Bates          0        0       0  ...            0       0        0   \n",
      "\n",
      "                                                                           \n",
      "Course number ARTS569  ARTS571  ARTS573 ARTS577 ARTS581  ARTS583  ARTS587  \n",
      "Student name                                                               \n",
      "ABella Abzug         0        0       0       0        1        0       0  \n",
      "Al Gore              0        0       0       0        0        0       0  \n",
      "Al Hirt              0        0       0       0        0        0       0  \n",
      "Al Roker             0        0       0       0        0        0       0  \n",
      "Alan Bates           0        0       0       0        0        0       0  \n",
      "\n",
      "[5 rows x 105 columns]\n"
     ]
    }
   ],
   "source": [
    "print('Creating our new dataframe')\n",
    "\n",
    "student_registration_table = pd.pivot_table(merged_df, values=None, index='Student name', columns='Course number', aggfunc='sum')\n",
    "\n",
    "print()\n",
    "print('Head of pivot table:')\n",
    "print(student_registration_table.head())\n",
    "print()\n",
    "\n",
    "print('Translating to binary:')\n",
    "\n",
    "student_registration_binary = student_registration_table.notnull().astype(int)\n",
    "\n",
    "print(student_registration_binary.head())"
   ]
  }
 ],
 "metadata": {
  "kernelspec": {
   "display_name": "Python 3 (ipykernel)",
   "language": "python",
   "name": "python3"
  },
  "language_info": {
   "codemirror_mode": {
    "name": "ipython",
    "version": 3
   },
   "file_extension": ".py",
   "mimetype": "text/x-python",
   "name": "python",
   "nbconvert_exporter": "python",
   "pygments_lexer": "ipython3",
   "version": "3.11.5"
  }
 },
 "nbformat": 4,
 "nbformat_minor": 5
}
